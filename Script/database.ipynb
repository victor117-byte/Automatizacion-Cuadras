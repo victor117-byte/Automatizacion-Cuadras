{
 "cells": [
  {
   "cell_type": "code",
   "execution_count": 11,
   "metadata": {},
   "outputs": [
    {
     "name": "stdout",
     "output_type": "stream",
     "text": [
      "Error: ('08001', \"[08001] [Microsoft][ODBC Driver 18 for SQL Server]Invalid value specified for connection string attribute 'TrustServerCertificate' (0) (SQLDriverConnect)\")\n"
     ]
    }
   ],
   "source": [
    "import pyodbc\n",
    "\n",
    "try:\n",
    "    # Parámetros de conexión\n",
    "    server = 'localhost,1433'\n",
    "    database = 'Master'\n",
    "    username = 'sa'\n",
    "    password = 'Foretagbi_17'\n",
    "    driver = '{ODBC Driver 18 for SQL Server}'\n",
    "\n",
    "    # Cadena de conexión\n",
    "    connection_string = f'DRIVER={driver};SERVER={server};DATABASE={database};UID={username};PWD={password};TrustServerCertificate=True'\n",
    "\n",
    "    # Establecer la conexión\n",
    "    connection = pyodbc.connect(connection_string)\n",
    "\n",
    "    # Crear un cursor\n",
    "    cursor = connection.cursor()\n",
    "\n",
    "    # Ejemplo: Consultar datos\n",
    "    cursor.execute('SELECT * FROM TuTabla')\n",
    "    for row in cursor.fetchall():\n",
    "        print(row)\n",
    "\n",
    "    # Cerrar la conexión\n",
    "    connection.close()\n",
    "\n",
    "except Exception as e:\n",
    "    print(f\"Error: {e}\")\n"
   ]
  },
  {
   "cell_type": "code",
   "execution_count": 5,
   "metadata": {},
   "outputs": [
    {
     "ename": "OperationalError",
     "evalue": "('08001', '[08001] [Microsoft][ODBC Driver 18 for SQL Server]SSL Provider: La cadena de certificación fue emitida por una entidad en la que no se confía.\\r\\n (-2146893019) (SQLDriverConnect); [08001] [Microsoft][ODBC Driver 18 for SQL Server]Client unable to establish connection. For solutions related to encryption errors, see https://go.microsoft.com/fwlink/?linkid=2226722 (-2146893019)')",
     "output_type": "error",
     "traceback": [
      "\u001b[1;31m---------------------------------------------------------------------------\u001b[0m",
      "\u001b[1;31mOperationalError\u001b[0m                          Traceback (most recent call last)",
      "Cell \u001b[1;32mIn[5], line 3\u001b[0m\n\u001b[0;32m      1\u001b[0m \u001b[38;5;28;01mimport\u001b[39;00m \u001b[38;5;21;01mpandas\u001b[39;00m \u001b[38;5;28;01mas\u001b[39;00m \u001b[38;5;21;01mpd\u001b[39;00m\n\u001b[0;32m      2\u001b[0m \u001b[38;5;28;01mimport\u001b[39;00m \u001b[38;5;21;01mpyodbc\u001b[39;00m \n\u001b[1;32m----> 3\u001b[0m cnxn \u001b[38;5;241m=\u001b[39m \u001b[43mpyodbc\u001b[49m\u001b[38;5;241;43m.\u001b[39;49m\u001b[43mconnect\u001b[49m\u001b[43m(\u001b[49m\u001b[38;5;124;43m\"\u001b[39;49m\u001b[38;5;124;43mDriver=\u001b[39;49m\u001b[38;5;124;43m{\u001b[39;49m\u001b[38;5;124;43mODBC Driver 18 for SQL Server};Server=localhost,1433;UID=sa;PWD=Foretagbi_17;Database=db;\u001b[39;49m\u001b[38;5;124;43m\"\u001b[39;49m\u001b[43m)\u001b[49m\n\u001b[0;32m      4\u001b[0m df \u001b[38;5;241m=\u001b[39m pd\u001b[38;5;241m.\u001b[39mread_sql_query(\u001b[38;5;124m'\u001b[39m\u001b[38;5;124mselect TOP 10 * from dbo.demo\u001b[39m\u001b[38;5;124m'\u001b[39m, cnxn)\n\u001b[0;32m      5\u001b[0m \u001b[38;5;66;03m# cursor = cnxn.cursor()\u001b[39;00m\n\u001b[0;32m      6\u001b[0m \u001b[38;5;66;03m# cursor.execute('SELECT * FROM Table')\u001b[39;00m\n",
      "\u001b[1;31mOperationalError\u001b[0m: ('08001', '[08001] [Microsoft][ODBC Driver 18 for SQL Server]SSL Provider: La cadena de certificación fue emitida por una entidad en la que no se confía.\\r\\n (-2146893019) (SQLDriverConnect); [08001] [Microsoft][ODBC Driver 18 for SQL Server]Client unable to establish connection. For solutions related to encryption errors, see https://go.microsoft.com/fwlink/?linkid=2226722 (-2146893019)')"
     ]
    }
   ],
   "source": [
    "import pandas as pd\n",
    "import pyodbc \n",
    "cnxn = pyodbc.connect(\"Driver={ODBC Driver 18 for SQL Server};Server=localhost,1433;UID=sa;PWD=Foretagbi_17;Database=db;\")\n",
    "df = pd.read_sql_query('select TOP 10 * from dbo.demo', cnxn)\n",
    "# cursor = cnxn.cursor()\n",
    "# cursor.execute('SELECT * FROM Table')\n",
    "print(df)\n",
    "print(\"db connected\")"
   ]
  }
 ],
 "metadata": {
  "kernelspec": {
   "display_name": "Python 3",
   "language": "python",
   "name": "python3"
  },
  "language_info": {
   "codemirror_mode": {
    "name": "ipython",
    "version": 3
   },
   "file_extension": ".py",
   "mimetype": "text/x-python",
   "name": "python",
   "nbconvert_exporter": "python",
   "pygments_lexer": "ipython3",
   "version": "3.12.2"
  }
 },
 "nbformat": 4,
 "nbformat_minor": 2
}
