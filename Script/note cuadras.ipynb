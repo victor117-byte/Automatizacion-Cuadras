{
 "cells": [
  {
   "cell_type": "code",
   "execution_count": 1,
   "metadata": {},
   "outputs": [
    {
     "ename": "FileNotFoundError",
     "evalue": "[Errno 2] No such file or directory: './Acuse presentacion de Impuestos Noviembre 2022.pdf'",
     "output_type": "error",
     "traceback": [
      "\u001b[1;31m---------------------------------------------------------------------------\u001b[0m",
      "\u001b[1;31mFileNotFoundError\u001b[0m                         Traceback (most recent call last)",
      "\u001b[1;32m~\\AppData\\Local\\Temp/ipykernel_29644/480325596.py\u001b[0m in \u001b[0;36m<module>\u001b[1;34m\u001b[0m\n\u001b[0;32m      5\u001b[0m \u001b[1;33m\u001b[0m\u001b[0m\n\u001b[0;32m      6\u001b[0m \u001b[1;33m\u001b[0m\u001b[0m\n\u001b[1;32m----> 7\u001b[1;33m \u001b[0mpdf_AcusePresentacionImpuestos\u001b[0m \u001b[1;33m=\u001b[0m \u001b[0mopen\u001b[0m\u001b[1;33m(\u001b[0m\u001b[1;34m\"./Acuse presentacion de Impuestos Noviembre 2022.pdf\"\u001b[0m\u001b[1;33m,\u001b[0m \u001b[1;34m\"rb\"\u001b[0m\u001b[1;33m)\u001b[0m\u001b[1;33m\u001b[0m\u001b[1;33m\u001b[0m\u001b[0m\n\u001b[0m\u001b[0;32m      8\u001b[0m \u001b[0mpdf2\u001b[0m \u001b[1;33m=\u001b[0m \u001b[0mopen\u001b[0m\u001b[1;33m(\u001b[0m\u001b[1;34m\"./Acuse Recepcion de Pago SAT.pdf\"\u001b[0m\u001b[1;33m,\u001b[0m \u001b[1;34m\"rb\"\u001b[0m\u001b[1;33m)\u001b[0m\u001b[1;33m\u001b[0m\u001b[1;33m\u001b[0m\u001b[0m\n\u001b[0;32m      9\u001b[0m \u001b[0mpdf3\u001b[0m \u001b[1;33m=\u001b[0m \u001b[0mopen\u001b[0m\u001b[1;33m(\u001b[0m\u001b[1;34m\"./Constancia.pdf\"\u001b[0m\u001b[1;33m,\u001b[0m \u001b[1;34m\"rb\"\u001b[0m\u001b[1;33m)\u001b[0m\u001b[1;33m\u001b[0m\u001b[1;33m\u001b[0m\u001b[0m\n",
      "\u001b[1;31mFileNotFoundError\u001b[0m: [Errno 2] No such file or directory: './Acuse presentacion de Impuestos Noviembre 2022.pdf'"
     ]
    }
   ],
   "source": [
    "from logging import root\n",
    "import PyPDF2\n",
    "import numpy as np\n",
    "import os\n",
    "\n",
    "\n",
    "pdf_AcusePresentacionImpuestos = open(\"./Acuse presentacion de Impuestos Noviembre 2022.pdf\", \"rb\")\n",
    "pdf2 = open(\"./Acuse Recepcion de Pago SAT.pdf\", \"rb\")\n",
    "pdf3 = open(\"./Constancia.pdf\", \"rb\")\n",
    "pdf4 = open(\"./Opinion Cumplimiento.pdf\", \"rb\")\n",
    "\n",
    "\n",
    "\n",
    "# Asigna el pdf en una variable\n",
    "reader = PyPDF2.PdfReader(pdf_AcusePresentacionImpuestos)\n",
    "# Asigno que pagina va a mostrar\n",
    "page = reader._get_page(0)\n",
    "\n",
    "texto = page.extract_text()\n",
    "\n",
    "print(texto)\n"
   ]
  },
  {
   "cell_type": "code",
   "execution_count": 1,
   "metadata": {},
   "outputs": [
    {
     "name": "stdout",
     "output_type": "stream",
     "text": [
      "['../PDF/Constancias_Presentacion_impuestos\\\\Constancia 07-03-23.pdf', '../PDF/Constancias_Presentacion_impuestos\\\\Constancia.pdf']\n",
      "['../PDF/Constancias_Presentacion_impuestos\\\\Diot 01ENE23DIOTCUADRAS.pdf']\n"
     ]
    }
   ],
   "source": [
    "import PyPDF2\n",
    "import pandas as pd\n",
    "import numpy as np\n",
    "import sys, os\n",
    "import json\n",
    "\n",
    "# root = r\"C:\\Users\\Victor\\Documents\\Cursos\\Python\\Automatizacion\\PDF\"\n",
    "root = r\"../PDF/\"\n",
    "path = os.path.join(root, \"PDF\")\n",
    "\n",
    "# Funcion que obtiene los archivos con su ruta y se encarga de clasificarlos en arreglos\n",
    "def ArchivosPDF(root, path):\n",
    "    Archivos_Acuse_Recepcion = []\n",
    "    Archivos_Opinion_Cumplimiento = []\n",
    "    Archivos_Acuse_Presentacion = []\n",
    "    Archivos_Constancia = []\n",
    "    Archivos_Diot = []\n",
    "    Archivos_no_clasificados = []\n",
    "    \n",
    "    for path, subdirs, files in os.walk(root):\n",
    "        for name in files:\n",
    "            # print(os.path.join(path, name))\n",
    "            if os.path.join(name).endswith(\".pdf\"):\n",
    "                #Archivos Acuse Recepcion\n",
    "                if os.path.join(name).startswith(\"Acuse Recepcion\"):\n",
    "                    Archivos_Acuse_Recepcion.append(os.path.join(path, name))\n",
    "                elif os.path.join(name).startswith(\"Opinion Cumplimiento\"):\n",
    "                    Archivos_Opinion_Cumplimiento.append(os.path.join(path, name))\n",
    "                elif os.path.join(name).startswith(\"Acuse Presentacion\"):\n",
    "                    Archivos_Acuse_Presentacion.append(os.path.join(path, name))\n",
    "                elif os.path.join(name).startswith(\"Constancia\"):\n",
    "                    Archivos_Constancia.append(os.path.join(path, name))\n",
    "                elif os.path.join(name).startswith(\"Diot\"):\n",
    "                    Archivos_Diot.append(os.path.join(path, name))\n",
    "                else: \n",
    "                    Archivos_no_clasificados.append(os.path.join(path, name))\n",
    "                    \n",
    "    return Archivos_Acuse_Recepcion, Archivos_Opinion_Cumplimiento, Archivos_Acuse_Presentacion, Archivos_Constancia,Archivos_Diot, Archivos_no_clasificados\n",
    "\n",
    "\n",
    "# -> Papelines de Extraccion \n",
    "\n",
    "# Funcion de extraccion de datos para archivos PDF Acuse Recepcion de Pagos\n",
    "def exportDataAcusesRecepcion(Archivos):\n",
    "    \n",
    "    array_docs = []\n",
    "    for i in range(len(Archivos)):\n",
    "        \n",
    "        \n",
    "        pdf = open(Archivos[i], 'rb')\n",
    "        # Asigna el pdf en una variable\n",
    "        reader = PyPDF2.PdfReader(pdf)\n",
    "        # Asigno que pagina va a mostrar\n",
    "        page = reader._get_page(0)\n",
    "\n",
    "        texto = page.extract_text()\n",
    "\n",
    "        arreglo = np.asarray(texto.split('\\n'))\n",
    "        arreglo = (texto.split('\\n'))\n",
    "        \n",
    "        array_doc = []\n",
    "        for e in range(len(arreglo)):\n",
    "            array_base = arreglo[e].split(': ')\n",
    "            # print(array_base)\n",
    "            if len(array_base) == 2:\n",
    "                array_doc.append(array_base)\n",
    "        json_doc = dict(array_doc)\n",
    "        # print(json_doc)\n",
    "        \n",
    "    array_docs.append(array_doc)\n",
    "\n",
    "    # df = pd.DataFrame (array_docs, columns = ['data'])\n",
    "    print(len(array_docs))\n",
    "    \n",
    "    data = json.dumps(array_docs)\n",
    "    print(data)\n",
    "    \n",
    "        # df = pd.DataFrame(arreglo, columns= ['ColumnA'])\n",
    "        \n",
    "    \n",
    "    # return df\n",
    "    \n",
    "    \n",
    "#   Funcion de prueba\n",
    "#   Con el objetivo de traer unicamente campos especificados\n",
    "def exportDataAcusePresentacion(Archivos):\n",
    "    array_docs = []\n",
    "    for i in range(len(Archivos)):\n",
    "        \n",
    "        \n",
    "        pdf = open(Archivos[i], 'rb')\n",
    "        # Asigna el pdf en una variable\n",
    "        reader = PyPDF2.PdfReader(pdf)\n",
    "        # Asigno que pagina va a mostrar\n",
    "        page = reader._get_page(0)\n",
    "\n",
    "        texto = page.extract_text()\n",
    "\n",
    "        \n",
    "        # arreglo = np.asarray(texto.split('\\n'))\n",
    "        arreglo = (texto.split('\\n'))\n",
    "        \n",
    "        print(texto.replace(\" \", \"<>\"))\n",
    "    \n",
    "    return #print(i)\n",
    "        \n",
    "        \n",
    "# Funcion de extraccion de datos para archivos PDF Opinion Cumplimiento\n",
    "def exportDataOpinionCumplimietno(Archivos):\n",
    "    \n",
    "    for i in range(len(Archivos)):\n",
    "        \n",
    "        pdf = open(Archivos[i], 'rb')\n",
    "        # Asigna el pdf en una variable\n",
    "        reader = PyPDF2.PdfReader(pdf)\n",
    "        # Asigno que pagina va a mostrar\n",
    "        page = reader._get_page(0)\n",
    "\n",
    "        texto = page.extract_text()\n",
    "\n",
    "        print(texto.split('\\n'))\n",
    "\n",
    "\n",
    "# Varibales de PDF's'\n",
    "# Se asigna el tipo de pdf a un variable\n",
    "\n",
    "Archivos_Acuse_Recepcion = (ArchivosPDF(root, path)[0])         #--> Solo contiene 1 archivo\n",
    "Archivos_Opinion_Cumplimiento = (ArchivosPDF(root, path)[1])    #--> Solo contiene 1 archivo\n",
    "Archivos_Acuse_Presentacion = (ArchivosPDF(root, path)[2])      #--> °Contiene archivos Dummies y 1 original para pruebas\n",
    "Archivos_Constancia = (ArchivosPDF(root, path)[3])              #--> Solo contiene 1 archivo\n",
    "Archivos_Diot = (ArchivosPDF(root, path)[4])         #--> Solo contiene 1 archivo\n",
    "Archivos_no_clasificados = (ArchivosPDF(root, path)[5])         #--> Solo contiene 1 archivo\n",
    "\n",
    "# df = exportDataAcusesRecepcion(Archivos_Acuse_Presentacion)\n",
    "\n",
    "# exportDataAcusePresentacion(Archivos_Acuse_Presentacion)\n",
    "\n",
    "print(Archivos_Constancia)\n",
    "print(Archivos_Diot)"
   ]
  },
  {
   "cell_type": "code",
   "execution_count": 3,
   "metadata": {},
   "outputs": [],
   "source": [
    "# MongoDB Connection\n",
    "from pymongo import MongoClient\n",
    "\n",
    "client = MongoClient('mongodb://localhost:27017/cuadras');"
   ]
  },
  {
   "cell_type": "code",
   "execution_count": 1,
   "metadata": {},
   "outputs": [
    {
     "name": "stdout",
     "output_type": "stream",
     "text": [
      "[\"1\", \"2\", \"3\"]\n",
      "<class 'str'>\n"
     ]
    }
   ],
   "source": [
    "import json\n",
    "\n",
    "aList = [\"1\", \"2\", \"3\"]\n",
    "\n",
    "res = json.dumps(aList)\n",
    "\n",
    "print(res)\n",
    "print(type(res))"
   ]
  },
  {
   "cell_type": "code",
   "execution_count": 2,
   "metadata": {},
   "outputs": [
    {
     "name": "stdout",
     "output_type": "stream",
     "text": [
      "  product_name\n",
      "0       laptop\n",
      "1      printer\n",
      "2       tablet\n",
      "3         desk\n",
      "4        chair\n"
     ]
    }
   ],
   "source": [
    "\n",
    "import pandas as pd\n",
    "\n",
    "products_list = ['laptop', 'printer', 'tablet', 'desk', 'chair']\n",
    "\n",
    "df = pd.DataFrame (products_list, columns = ['product_name'])\n",
    "print (df)"
   ]
  },
  {
   "cell_type": "code",
   "execution_count": 7,
   "metadata": {},
   "outputs": [
    {
     "name": "stdout",
     "output_type": "stream",
     "text": [
      "   1   \n",
      "7\n"
     ]
    }
   ],
   "source": [
    "prueba = \"   Hola   \"\n",
    "\n",
    "remplazo = prueba.replace(\"Hola\", \"1\")\n",
    "print(remplazo)\n",
    "print(len(remplazo))"
   ]
  },
  {
   "cell_type": "code",
   "execution_count": 7,
   "metadata": {},
   "outputs": [
    {
     "name": "stdout",
     "output_type": "stream",
     "text": [
      "Error al copiar el archivo: [WinError 3] El sistema no puede encontrar la ruta especificada\n"
     ]
    }
   ],
   "source": [
    "import shutil\n",
    "\n",
    "def copiar_y_sobrescribir(src, dest):\n",
    "    try:\n",
    "        # Copiar el archivo desde src a dest\n",
    "        shutil.copy2(src, dest)\n",
    "        print(f\"Archivo copiado exitosamente de {src} a {dest}\")\n",
    "\n",
    "    except Exception as e:\n",
    "        print(f\"Error al copiar el archivo: {e}\")\n",
    "\n",
    "import os\n",
    "ruta_origen = r'C:\\\\Users\\\\victo\\\\OneDrive\\\\Documentos\\\\Proyectos\\\\R2D2\\\\ProyectoSat\\\\Automatizacion-Cuadras\\\\TiposPDF\\\\Acuse\\\\MESN840923HU2 22024 ISR-IVA.pdf'\n",
    "ruta_destino = 'C:\\\\Users\\\\victo\\\\OneDrive\\\\Documentos\\\\Proyectos\\\\R2D2\\\\ProyectoSat\\\\Automatizacion-Cuadras\\\\Aplicacion_SAT/LH//2024/MESN840923HU2/DECLARACIONES/MESN840923HU2_07_03_2024_15-50_DECLARACION.pdf'\n",
    "\n",
    "copiar_y_sobrescribir(ruta_origen, ruta_destino)\n"
   ]
  }
 ],
 "metadata": {
  "kernelspec": {
   "display_name": "Python 3.8.11 ('API')",
   "language": "python",
   "name": "python3"
  },
  "language_info": {
   "codemirror_mode": {
    "name": "ipython",
    "version": 3
   },
   "file_extension": ".py",
   "mimetype": "text/x-python",
   "name": "python",
   "nbconvert_exporter": "python",
   "pygments_lexer": "ipython3",
   "version": "3.12.2"
  },
  "orig_nbformat": 4,
  "vscode": {
   "interpreter": {
    "hash": "3b2db6b3298c2c67503e8ec754efc2278cd3ae34d21e8da0c838d727fd0f6740"
   }
  }
 },
 "nbformat": 4,
 "nbformat_minor": 2
}
